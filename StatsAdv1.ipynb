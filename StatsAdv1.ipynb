{
  "nbformat": 4,
  "nbformat_minor": 0,
  "metadata": {
    "colab": {
      "provenance": [],
      "toc_visible": true,
      "authorship_tag": "ABX9TyMgsLBgjsYdvTUHFKt4Qhlp",
      "include_colab_link": true
    },
    "kernelspec": {
      "name": "python3",
      "display_name": "Python 3"
    },
    "language_info": {
      "name": "python"
    }
  },
  "cells": [
    {
      "cell_type": "markdown",
      "metadata": {
        "id": "view-in-github",
        "colab_type": "text"
      },
      "source": [
        "<a href=\"https://colab.research.google.com/github/thepersonuadmire/statisticsAdvance1/blob/main/StatsAdv1.ipynb\" target=\"_parent\"><img src=\"https://colab.research.google.com/assets/colab-badge.svg\" alt=\"Open In Colab\"/></a>"
      ]
    },
    {
      "cell_type": "markdown",
      "source": [
        "1. What is a random variable in probability theory?\n"
      ],
      "metadata": {
        "id": "vmHGG6j52MMo"
      }
    },
    {
      "cell_type": "markdown",
      "source": [
        "A random variable is a numerical outcome of a random phenomenon. It assigns a real number to each outcome in a sample space, allowing for the quantification of uncertainty."
      ],
      "metadata": {
        "id": "T4GEE9Q78nqD"
      }
    },
    {
      "cell_type": "markdown",
      "source": [
        "2. What are the types of random variables?\n"
      ],
      "metadata": {
        "id": "kh6lAiAc3z7c"
      }
    },
    {
      "cell_type": "markdown",
      "source": [
        "There are two main types of random variables:\n",
        "\n",
        "Discrete Random Variables: These can take on a countable number of values (e.g., the number of heads in a series of coin flips).\n",
        "\n",
        "Continuous Random Variables: These can take on an infinite number of values within a given range (e.g., the height of individuals)."
      ],
      "metadata": {
        "id": "iOfdhsv88pPW"
      }
    },
    {
      "cell_type": "markdown",
      "source": [
        "3. What is the difference between discrete and continuous distributions?\n"
      ],
      "metadata": {
        "id": "cDKcziIL32ub"
      }
    },
    {
      "cell_type": "markdown",
      "source": [
        "Discrete Distributions: These describe the probabilities of discrete random variables. The probability mass function (PMF) is used to define the probabilities.\n",
        "\n",
        "Continuous Distributions: These describe the probabilities of continuous random variables. The probability density function (PDF) is used, and probabilities are calculated over intervals."
      ],
      "metadata": {
        "id": "TEgQd4ki8x4t"
      }
    },
    {
      "cell_type": "markdown",
      "source": [
        "4. What are probability distribution functions (PDF)?\n"
      ],
      "metadata": {
        "id": "wRosQls736j1"
      }
    },
    {
      "cell_type": "markdown",
      "source": [
        "A probability distribution function (PDF) describes the likelihood of a random variable taking on a particular value. For discrete variables, it is called the probability mass function (PMF), while for continuous variables, it is the probability density function."
      ],
      "metadata": {
        "id": "0JOraYFt87be"
      }
    },
    {
      "cell_type": "markdown",
      "source": [
        "5. How do cumulative distribution functions (CDF) differ from probability distribution functions (PDF)?\n"
      ],
      "metadata": {
        "id": "Ri5ZKNYB3_5X"
      }
    },
    {
      "cell_type": "markdown",
      "source": [
        "The cumulative distribution function (CDF) gives the probability that a random variable is less than or equal to a certain value. It is the integral of the PDF for continuous variables or the sum of the PMF for discrete variables."
      ],
      "metadata": {
        "id": "igDGfD4c8_Zh"
      }
    },
    {
      "cell_type": "markdown",
      "source": [
        "6. What is a discrete uniform distribution?\n"
      ],
      "metadata": {
        "id": "4oYAhk0p4CVe"
      }
    },
    {
      "cell_type": "markdown",
      "source": [
        "A discrete uniform distribution is a type of probability distribution where all outcomes are equally likely. For example, rolling a fair die results in a discrete uniform distribution with six equally likely outcomes."
      ],
      "metadata": {
        "id": "XlVJ88gS9uIY"
      }
    },
    {
      "cell_type": "markdown",
      "source": [
        "7. What are the key properties of a Bernoulli distribution?\n"
      ],
      "metadata": {
        "id": "XCGPckQI4GFG"
      }
    },
    {
      "cell_type": "markdown",
      "source": [
        "A Bernoulli distribution has two possible outcomes: success (1) and failure (0). Key properties include:\n",
        "\n",
        "The probability of success is denoted by ( p ).\n",
        "\n",
        "The mean is ( p ) and the variance is ( p(1-p) )."
      ],
      "metadata": {
        "id": "2kIypGgG9yr0"
      }
    },
    {
      "cell_type": "markdown",
      "source": [
        "8. What is the binomial distribution, and how is it used in probability?\n"
      ],
      "metadata": {
        "id": "jRFqJJcr4InK"
      }
    },
    {
      "cell_type": "markdown",
      "source": [
        "The binomial distribution models the number of successes in a fixed number of independent Bernoulli trials. It is characterized by two parameters: ( n ) (number of trials) and ( p ) (probability of success). It is used in scenarios like flipping a coin multiple times."
      ],
      "metadata": {
        "id": "9KPfPWDj94ZE"
      }
    },
    {
      "cell_type": "markdown",
      "source": [
        "9. What is the Poisson distribution and where is it applied?\n"
      ],
      "metadata": {
        "id": "Nz_TSm7Y4K4y"
      }
    },
    {
      "cell_type": "markdown",
      "source": [
        "The Poisson distribution models the number of events occurring in a fixed interval of time or space, given that these events happen with a known constant mean rate and independently of the time since the last event. It is often used in fields like telecommunications and traffic flow."
      ],
      "metadata": {
        "id": "T5GJVuAH97zu"
      }
    },
    {
      "cell_type": "markdown",
      "source": [
        "10. What is a continuous uniform distribution?\n"
      ],
      "metadata": {
        "id": "WcwjpQjT4NgC"
      }
    },
    {
      "cell_type": "markdown",
      "source": [
        "A continuous uniform distribution is a type of distribution where all intervals of the same length within the range are equally probable. It is defined by two parameters: the minimum and maximum values."
      ],
      "metadata": {
        "id": "o0RO-P4s9_sJ"
      }
    },
    {
      "cell_type": "markdown",
      "source": [
        "11. What are the characteristics of a normal distribution?\n"
      ],
      "metadata": {
        "id": "UuaHpfda4P5C"
      }
    },
    {
      "cell_type": "markdown",
      "source": [
        "A normal distribution is symmetric and bell-shaped, characterized by its mean (µ) and standard deviation (σ). Key properties include:\n",
        "\n",
        "Approximately 68% of the data falls within one standard deviation of the mean.\n",
        "\n",
        "Approximately 95% falls within two standard deviations.\n",
        "\n",
        "Approximately 99.7% falls within three standard deviations."
      ],
      "metadata": {
        "id": "Iykc-7ed-D8N"
      }
    },
    {
      "cell_type": "markdown",
      "source": [
        "12. What is the standard normal distribution, and why is it important?\n"
      ],
      "metadata": {
        "id": "UZLs2YDS5AO9"
      }
    },
    {
      "cell_type": "markdown",
      "source": [
        "The standard normal distribution is a normal distribution with a mean of 0 and a standard deviation of 1. It is important because it allows for the standardization of scores (Z-scores), enabling comparison across different normal distributions."
      ],
      "metadata": {
        "id": "XpoZkOtj-Nhp"
      }
    },
    {
      "cell_type": "markdown",
      "source": [
        "13. What is the Central Limit Theorem (CLT), and why is it critical in statistics?\n"
      ],
      "metadata": {
        "id": "1V2GslUm56Xs"
      }
    },
    {
      "cell_type": "markdown",
      "source": [
        "The Central Limit Theorem states that the distribution of the sample mean approaches a normal distribution as the sample size increases, regardless of the original distribution of the population. It is critical because it justifies the use of normal distribution in inferential statistics."
      ],
      "metadata": {
        "id": "-NlKE4CK-QnU"
      }
    },
    {
      "cell_type": "markdown",
      "source": [
        "14. How does the Central Limit Theorem relate to the normal distribution?\n"
      ],
      "metadata": {
        "id": "vN6pmX2p59Q3"
      }
    },
    {
      "cell_type": "markdown",
      "source": [
        "The CLT indicates that as the sample size increases, the sampling distribution of the sample mean will approximate a normal distribution, even if the population distribution is not normal.\n"
      ],
      "metadata": {
        "id": "xvRsesgd-VZZ"
      }
    },
    {
      "cell_type": "markdown",
      "source": [
        "15. What is the application of Z statistics in hypothesis testing?\n"
      ],
      "metadata": {
        "id": "MpxaoNY-6AMt"
      }
    },
    {
      "cell_type": "markdown",
      "source": [
        "Z statistics are used in hypothesis testing to determine how far away a sample mean is from the population mean in terms of standard deviations. It helps in deciding whether to reject the null hypothesis."
      ],
      "metadata": {
        "id": "Du_3-aED-YlY"
      }
    },
    {
      "cell_type": "markdown",
      "source": [
        "16. How do you calculate a Z-score, and what does it represent?\n"
      ],
      "metadata": {
        "id": "rchjxWpm6ClL"
      }
    },
    {
      "cell_type": "markdown",
      "source": [
        "A Z-score is calculated using the formula [ Z = \\frac{(X - \\mu)}{\\sigma} ] where ( X ) is the value, ( \\mu ) is the mean, and ( \\sigma ) is the standard deviation. The Z-score represents the number of standard deviations a data point is from the mean, indicating how unusual or typical the data point is."
      ],
      "metadata": {
        "id": "Vk5BV4mj-b6_"
      }
    },
    {
      "cell_type": "markdown",
      "source": [
        "17. What are point estimates and interval estimates in statistics?\n"
      ],
      "metadata": {
        "id": "V_q4CX676E1b"
      }
    },
    {
      "cell_type": "markdown",
      "source": [
        "Point Estimates: A single value estimate of a population parameter (e.g., sample mean as an estimate of population mean).\n",
        "Interval Estimates: A range of values (confidence interval) within which the population parameter is expected to lie, providing more information than a point estimate."
      ],
      "metadata": {
        "id": "H-0MMKIc-fpI"
      }
    },
    {
      "cell_type": "markdown",
      "source": [
        "18. What is the significance of confidence intervals in statistical analysis?\n"
      ],
      "metadata": {
        "id": "BAGU7GBt6HLD"
      }
    },
    {
      "cell_type": "markdown",
      "source": [
        "Confidence intervals provide a range of values that likely contain the population parameter, allowing researchers to quantify the uncertainty associated with point estimates. They help in making inferences about the population based on sample data."
      ],
      "metadata": {
        "id": "THQrcWlF-oB1"
      }
    },
    {
      "cell_type": "markdown",
      "source": [
        "19. What is the relationship between a Z-score and a confidence interval?\n"
      ],
      "metadata": {
        "id": "TKnTb3nk6JYc"
      }
    },
    {
      "cell_type": "markdown",
      "source": [
        "A Z-score is used to determine the critical values that define the boundaries of a confidence interval. For example, a Z-score corresponding to a 95% confidence level is used to calculate the margin of error around the sample mean."
      ],
      "metadata": {
        "id": "An96oVlP-tIX"
      }
    },
    {
      "cell_type": "markdown",
      "source": [
        "20. How are Z-scores used to compare different distributions?\n"
      ],
      "metadata": {
        "id": "KAjren0B6LdD"
      }
    },
    {
      "cell_type": "markdown",
      "source": [
        "Z-scores standardize different datasets, allowing for comparison across distributions with different means and standard deviations. By converting values to Z-scores, one can assess relative positions within different distributions."
      ],
      "metadata": {
        "id": "-WMB6PCe-wkd"
      }
    },
    {
      "cell_type": "markdown",
      "source": [
        "21. What are the assumptions for applying the Central Limit Theorem?\n"
      ],
      "metadata": {
        "id": "iUSnk8_-6NZ7"
      }
    },
    {
      "cell_type": "markdown",
      "source": [
        "The main assumptions include:\n",
        "\n",
        "The samples must be independent.\n",
        "\n",
        "The sample size should be sufficiently large (typically ( n \\geq 30 )).\n",
        "\n",
        "The population from which samples are drawn should have a finite mean and variance."
      ],
      "metadata": {
        "id": "8esD9dmP-0fO"
      }
    },
    {
      "cell_type": "markdown",
      "source": [
        "22. What is the concept of expected value in a probability distribution?\n"
      ],
      "metadata": {
        "id": "ulMnqfEt6Pnf"
      }
    },
    {
      "cell_type": "markdown",
      "source": [
        "The expected value is the long-term average or mean of a random variable, calculated as the sum of all possible values weighted by their probabilities. It represents the center of the distribution."
      ],
      "metadata": {
        "id": "evpA-UT6-57o"
      }
    },
    {
      "cell_type": "markdown",
      "source": [
        "23. How does a probability distribution relate to the expected outcome of a random variable?"
      ],
      "metadata": {
        "id": "tb6Kb4Vy6Rnv"
      }
    },
    {
      "cell_type": "markdown",
      "source": [
        "A probability distribution provides the probabilities of all possible outcomes of a random variable, and the expected value is a weighted average of these outcomes, indicating the most likely average result over many trials."
      ],
      "metadata": {
        "id": "XE2I-AjF-9Bl"
      }
    },
    {
      "cell_type": "markdown",
      "source": [
        "# ***PRACTICAL***"
      ],
      "metadata": {
        "id": "Q_clgeAM6TXQ"
      }
    },
    {
      "cell_type": "markdown",
      "source": [
        "1. Write a Python program to generate a random variable and display its value.\n",
        "\n"
      ],
      "metadata": {
        "id": "7sOQiPqE6c8H"
      }
    },
    {
      "cell_type": "code",
      "source": [
        "import random\n",
        "\n",
        "value = random.randint(1, 100)\n",
        "print(\"Random variable value:\", value)\n"
      ],
      "metadata": {
        "id": "vdd1v46T_Jr8"
      },
      "execution_count": null,
      "outputs": []
    },
    {
      "cell_type": "markdown",
      "source": [
        "2. Generate a discrete uniform distribution using Python and plot the probability mass function (PMF).\n"
      ],
      "metadata": {
        "id": "qyr-3o9x7d0n"
      }
    },
    {
      "cell_type": "code",
      "source": [
        "import numpy as np\n",
        "import matplotlib.pyplot as plt\n",
        "from scipy.stats import randint\n",
        "\n",
        "low, high = 1, 6\n",
        "rv = randint(low, high + 1)\n",
        "x = np.arange(low, high + 1)\n",
        "pmf = rv.pmf(x)\n",
        "\n",
        "plt.stem(x, pmf, basefmt=\" \")\n",
        "plt.xlabel('Value')\n",
        "plt.ylabel('PMF')\n",
        "plt.title('Discrete Uniform Distribution PMF')\n",
        "plt.show()\n"
      ],
      "metadata": {
        "id": "WKV8ZvDf_FCp"
      },
      "execution_count": null,
      "outputs": []
    },
    {
      "cell_type": "markdown",
      "source": [
        "3. Write a Python function to calculate the probability distribution function (PDF) of a Bernoulli distribution.\n"
      ],
      "metadata": {
        "id": "SqgT-0ps7gJ0"
      }
    },
    {
      "cell_type": "code",
      "source": [
        "from scipy.stats import bernoulli\n",
        "\n",
        "def bernoulli_pdf(p, x):\n",
        "    return bernoulli.pmf(x, p)\n",
        "\n",
        "print(\"Bernoulli PDF for p=0.5, x=1:\", bernoulli_pdf(0.5, 1))"
      ],
      "metadata": {
        "id": "dxYwVBIv_bUY"
      },
      "execution_count": null,
      "outputs": []
    },
    {
      "cell_type": "markdown",
      "source": [
        "4. Write a Python script to simulate a binomial distribution with n=10 and p=0.5, then plot its histogram.\n"
      ],
      "metadata": {
        "id": "6vuwnDNd7jXe"
      }
    },
    {
      "cell_type": "code",
      "source": [
        "n, p = 10, 0.5\n",
        "binomial_data = np.random.binomial(n, p, 1000)\n",
        "\n",
        "plt.hist(binomial_data, bins=range(n + 2), align='left', rwidth=0.8)\n",
        "plt.xlabel('Value')\n",
        "plt.ylabel('Frequency')\n",
        "plt.title('Binomial Distribution (n=10, p=0.5)')\n",
        "plt.show()\n"
      ],
      "metadata": {
        "id": "-kb381jY_fBO"
      },
      "execution_count": null,
      "outputs": []
    },
    {
      "cell_type": "markdown",
      "source": [
        "5. Create a Poisson distribution and visualize it using Python.\n"
      ],
      "metadata": {
        "id": "HUFh-Qv_7mY8"
      }
    },
    {
      "cell_type": "code",
      "source": [
        "from scipy.stats import poisson\n",
        "\n",
        "mu = 4\n",
        "poisson_data = poisson.rvs(mu, size=1000)\n",
        "\n",
        "plt.hist(poisson_data, bins=range(min(poisson_data), max(poisson_data) + 2), align='left', rwidth=0.8)\n",
        "plt.xlabel('Value')\n",
        "plt.ylabel('Frequency')\n",
        "plt.title('Poisson Distribution (mu=4)')\n",
        "plt.show()\n"
      ],
      "metadata": {
        "id": "U_m1qCcc_h2n"
      },
      "execution_count": null,
      "outputs": []
    },
    {
      "cell_type": "markdown",
      "source": [
        "6. Write a Python program to calculate and plot the cumulative distribution function (CDF) of a discrete uniform distribution.\n"
      ],
      "metadata": {
        "id": "Ric1WleE7rjx"
      }
    },
    {
      "cell_type": "code",
      "source": [
        "cdf = rv.cdf(x)\n",
        "\n",
        "plt.step(x, cdf, where='post')\n",
        "plt.xlabel('Value')\n",
        "plt.ylabel('CDF')\n",
        "plt.title('Discrete Uniform Distribution CDF')\n",
        "plt.show()\n"
      ],
      "metadata": {
        "id": "fPpdXQ2A_kQC"
      },
      "execution_count": null,
      "outputs": []
    },
    {
      "cell_type": "markdown",
      "source": [
        "7. Generate a continuous uniform distribution using NumPy and visualize it.\n"
      ],
      "metadata": {
        "id": "mJ1aDzN97uoK"
      }
    },
    {
      "cell_type": "code",
      "source": [
        "uniform_data = np.random.uniform(0, 1, 1000)\n",
        "\n",
        "plt.hist(uniform_data, bins=20, density=True, alpha=0.7)\n",
        "plt.xlabel('Value')\n",
        "plt.ylabel('Frequency')\n",
        "plt.title('Continuous Uniform Distribution')\n",
        "plt.show()\n"
      ],
      "metadata": {
        "id": "xteUs4i4_oGJ"
      },
      "execution_count": null,
      "outputs": []
    },
    {
      "cell_type": "markdown",
      "source": [
        "8. Simulate data from a normal distribution and plot its histogram.\n"
      ],
      "metadata": {
        "id": "6YDvCbU17w_e"
      }
    },
    {
      "cell_type": "code",
      "source": [
        "normal_data = np.random.normal(0, 1, 1000)\n",
        "\n",
        "plt.hist(normal_data, bins=20, density=True, alpha=0.7)\n",
        "plt.xlabel('Value')\n",
        "plt.ylabel('Frequency')\n",
        "plt.title('Normal Distribution')\n",
        "plt.show()\n"
      ],
      "metadata": {
        "id": "WjKyv18m_swS"
      },
      "execution_count": null,
      "outputs": []
    },
    {
      "cell_type": "markdown",
      "source": [
        "9. Write a Python function to calculate Z-scores from a dataset and plot them.\n"
      ],
      "metadata": {
        "id": "Ez62CRiT70CN"
      }
    },
    {
      "cell_type": "code",
      "source": [
        "def calculate_z_scores(data):\n",
        "    mean = np.mean(data)\n",
        "    std = np.std(data)\n",
        "    z_scores = (data - mean) / std\n",
        "    return z_scores\n",
        "\n",
        "data = np.random.normal(50, 10, 1000)\n",
        "z_scores = calculate_z_scores(data)\n",
        "\n",
        "plt.hist(z_scores, bins=20, density=True, alpha=0.7)\n",
        "plt.xlabel('Z-score')\n",
        "plt.ylabel('Frequency')\n",
        "plt.title('Z-scores of Dataset')\n",
        "plt.show()\n"
      ],
      "metadata": {
        "id": "J37c0TPW_u5x"
      },
      "execution_count": null,
      "outputs": []
    },
    {
      "cell_type": "markdown",
      "source": [
        "10. Implement the Central Limit Theorem (CLT) using Python for a non-normal distribution.\n"
      ],
      "metadata": {
        "id": "YUeWTZAS72WA"
      }
    },
    {
      "cell_type": "code",
      "source": [
        "import seaborn as sns\n",
        "\n",
        "# Generate a non-normal distribution (exponential)\n",
        "non_normal_data = np.random.exponential(scale=2, size=10000)\n",
        "\n",
        "# Simulate the CLT by taking sample means\n",
        "sample_means = [np.mean(np.random.choice(non_normal_data, size=30)) for _ in range(1000)]\n",
        "\n",
        "# Plot original data and sample means\n",
        "plt.figure(figsize=(14, 6))\n",
        "\n",
        "plt.subplot(1, 2, 1)\n",
        "sns.histplot(non_normal_data, bins=30, kde=True)\n",
        "plt.title('Original Non-Normal Distribution')\n",
        "\n",
        "plt.subplot(1, 2, 2)\n",
        "sns.histplot(sample_means, bins=30, kde=True)\n",
        "plt.title('Sample Means (CLT Applied)')\n",
        "\n",
        "plt.show()\n"
      ],
      "metadata": {
        "id": "MLkamynX_x1a"
      },
      "execution_count": null,
      "outputs": []
    },
    {
      "cell_type": "markdown",
      "source": [
        "15. Simulate multiple samples from a normal distribution and verify the Central Limit Theorem.\n"
      ],
      "metadata": {
        "id": "WEl0YFyZ74tt"
      }
    },
    {
      "cell_type": "code",
      "source": [
        "sample_means = [np.mean(np.random.normal(0, 1, 30)) for _ in range(1000)]\n",
        "\n",
        "plt.hist(sample_means, bins=30, density=True, alpha=0.7)\n",
        "plt.title('CLT Verification with Normal Distribution')\n",
        "plt.xlabel('Sample Mean')\n",
        "plt.ylabel('Density')\n",
        "plt.show()\n"
      ],
      "metadata": {
        "id": "lhp2l9TT_1-1"
      },
      "execution_count": null,
      "outputs": []
    },
    {
      "cell_type": "markdown",
      "source": [
        "16. Write a Python function to calculate and plot the standard normal distribution (mean = 0, std = 1).\n"
      ],
      "metadata": {
        "id": "xL5RKfvI77A3"
      }
    },
    {
      "cell_type": "code",
      "source": [
        "from scipy.stats import norm\n",
        "\n",
        "def plot_standard_normal():\n",
        "    x = np.linspace(-4, 4, 1000)\n",
        "    y = norm.pdf(x, 0, 1)\n",
        "\n",
        "    plt.plot(x, y)\n",
        "    plt.title('Standard Normal Distribution (mean=0, std=1)')\n",
        "    plt.xlabel('Z-score')\n",
        "    plt.ylabel('Probability Density')\n",
        "    plt.grid()\n",
        "    plt.show()\n",
        "\n",
        "plot_standard_normal()\n"
      ],
      "metadata": {
        "id": "sS-Zzvki_5mH"
      },
      "execution_count": null,
      "outputs": []
    },
    {
      "cell_type": "markdown",
      "source": [
        "17. Generate random variables and calculate their corresponding probabilities using the binomial distribution.\n"
      ],
      "metadata": {
        "id": "9pfdauQP79if"
      }
    },
    {
      "cell_type": "code",
      "source": [
        "n, p = 10, 0.5\n",
        "binom_rv = np.random.binomial(n, p, size=1000)\n",
        "x = np.arange(0, n + 1)\n",
        "pmf = binom_rv\n",
        "\n",
        "plt.hist(binom_rv, bins=range(n + 2), align='left', rwidth=0.8, density=True)\n",
        "plt.title('Binomial Distribution PMF')\n",
        "plt.xlabel('Value')\n",
        "plt.ylabel('Probability')\n",
        "plt.show()\n"
      ],
      "metadata": {
        "id": "-QXXxpME_90n"
      },
      "execution_count": null,
      "outputs": []
    },
    {
      "cell_type": "markdown",
      "source": [
        "18. Write a Python program to calculate the Z-score for a given data point and compare it to a standard normal distribution.\n"
      ],
      "metadata": {
        "id": "l-vlqXGF7_69"
      }
    },
    {
      "cell_type": "code",
      "source": [
        "def z_score(data_point, mean, std):\n",
        "    return (data_point - mean) / std\n",
        "\n",
        "data = np.random.normal(50, 10, 100)\n",
        "mean, std = np.mean(data), np.std(data)\n",
        "\n",
        "z = z_score(60, mean, std)\n",
        "print(f\"Z-score for data point 60: {z}\")\n",
        "\n",
        "# Plotting comparison\n",
        "x = np.linspace(-4, 4, 1000)\n",
        "y = norm.pdf(x, 0, 1)\n",
        "\n",
        "plt.plot(x, y, label=\"Standard Normal Distribution\")\n",
        "plt.axvline(z, color='r', linestyle='--', label=f\"Z = {z:.2f}\")\n",
        "plt.legend()\n",
        "plt.show()\n"
      ],
      "metadata": {
        "id": "5vamxbgH__U7"
      },
      "execution_count": null,
      "outputs": []
    },
    {
      "cell_type": "markdown",
      "source": [
        "19. Implement hypothesis testing using Z-statistics for a sample dataset.\n"
      ],
      "metadata": {
        "id": "5vt7Hz1z8By2"
      }
    },
    {
      "cell_type": "code",
      "source": [
        "from scipy.stats import norm\n",
        "\n",
        "# Example dataset\n",
        "sample_mean = 52\n",
        "population_mean = 50\n",
        "std_dev = 10\n",
        "sample_size = 30\n",
        "\n",
        "# Calculate Z-statistic\n",
        "z_stat = (sample_mean - population_mean) / (std_dev / np.sqrt(sample_size))\n",
        "p_value = 2 * (1 - norm.cdf(abs(z_stat)))\n",
        "\n",
        "print(f\"Z-statistic: {z_stat:.2f}\")\n",
        "print(f\"P-value: {p_value:.4f}\")\n"
      ],
      "metadata": {
        "id": "1mw6OOEYACcI"
      },
      "execution_count": null,
      "outputs": []
    },
    {
      "cell_type": "markdown",
      "source": [
        "20. Create a confidence interval for a dataset using Python and interpret the result.\n"
      ],
      "metadata": {
        "id": "u8mPHNxg8ECA"
      }
    },
    {
      "cell_type": "code",
      "source": [
        "def confidence_interval(data, confidence=0.95):\n",
        "    mean = np.mean(data)\n",
        "    std_err = np.std(data, ddof=1) / np.sqrt(len(data))\n",
        "    margin = std_err * norm.ppf((1 + confidence) / 2)\n",
        "\n",
        "    return mean - margin, mean + margin\n",
        "\n",
        "data = np.random.normal(50, 10, 100)\n",
        "ci = confidence_interval(data)\n",
        "\n",
        "print(f\"95% Confidence Interval: {ci}\")\n"
      ],
      "metadata": {
        "id": "Hq3sLOXeAFg7"
      },
      "execution_count": null,
      "outputs": []
    },
    {
      "cell_type": "markdown",
      "source": [
        "21. Generate data from a normal distribution, then calculate and interpret the confidence interval for its mean.\n"
      ],
      "metadata": {
        "id": "X_Ow0qp68GBr"
      }
    },
    {
      "cell_type": "code",
      "source": [
        "data = np.random.normal(100, 15, 200)\n",
        "ci = confidence_interval(data)\n",
        "\n",
        "print(f\"95% Confidence Interval for Mean: {ci}\")\n"
      ],
      "metadata": {
        "id": "LnesxMIGAJ9i"
      },
      "execution_count": null,
      "outputs": []
    },
    {
      "cell_type": "markdown",
      "source": [
        "22. Write a Python script to calculate and visualize the probability density function (PDF) of a normal distribution.\n"
      ],
      "metadata": {
        "id": "IPqZEB-n8HwM"
      }
    },
    {
      "cell_type": "code",
      "source": [
        "x = np.linspace(-4, 4, 1000)\n",
        "pdf = norm.pdf(x, 0, 1)\n",
        "\n",
        "plt.plot(x, pdf)\n",
        "plt.title('Probability Density Function of Normal Distribution')\n",
        "plt.xlabel('Value')\n",
        "plt.ylabel('Density')\n",
        "plt.grid()\n",
        "plt.show()\n"
      ],
      "metadata": {
        "id": "c414WVRrAN2D"
      },
      "execution_count": null,
      "outputs": []
    },
    {
      "cell_type": "markdown",
      "source": [
        "23. Use Python to calculate and interpret the cumulative distribution function (CDF) of a Poisson distribution.\n"
      ],
      "metadata": {
        "id": "wtqTxmnZ8J52"
      }
    },
    {
      "cell_type": "code",
      "source": [
        "poisson_cdf = poisson.cdf(x, mu)\n",
        "\n",
        "plt.step(x, poisson_cdf, where='post')\n",
        "plt.title('Poisson Distribution CDF')\n",
        "plt.xlabel('Value')\n",
        "plt.ylabel('Cumulative Probability')\n",
        "plt.show()\n"
      ],
      "metadata": {
        "id": "dS75ytJ4AQ1O"
      },
      "execution_count": null,
      "outputs": []
    },
    {
      "cell_type": "markdown",
      "source": [
        "24. Simulate a random variable using a continuous uniform distribution and calculate its expected value.\n"
      ],
      "metadata": {
        "id": "SWn43Zlc8L66"
      }
    },
    {
      "cell_type": "code",
      "source": [
        "uniform_data = np.random.uniform(0, 10, 1000)\n",
        "expected_value = np.mean(uniform_data)\n",
        "\n",
        "print(\"Expected Value:\", expected_value)\n"
      ],
      "metadata": {
        "id": "P1GdKxbzATJu"
      },
      "execution_count": null,
      "outputs": []
    },
    {
      "cell_type": "markdown",
      "source": [
        "25. Write a Python program to compare the standard deviations of two datasets and visualize the difference.\n"
      ],
      "metadata": {
        "id": "uFhwpTsF8OI7"
      }
    },
    {
      "cell_type": "code",
      "source": [
        "data1 = np.random.normal(50, 10, 100)\n",
        "data2 = np.random.normal(60, 15, 100)\n",
        "\n",
        "std1, std2 = np.std(data1), np.std(data2)\n",
        "print(f\"Standard Deviation of Dataset 1: {std1:.2f}\")\n",
        "print(f\"Standard Deviation of Dataset 2: {std2:.2f}\")\n",
        "\n",
        "plt.hist(data1, bins=20, alpha=0.5, label='Dataset 1')\n",
        "plt.hist(data2, bins=20, alpha=0.5, label='Dataset 2')\n",
        "plt.legend()\n",
        "plt.show()\n"
      ],
      "metadata": {
        "id": "1t8Esp8nAW-z"
      },
      "execution_count": null,
      "outputs": []
    },
    {
      "cell_type": "markdown",
      "source": [
        "26. Calculate the range and interquartile range (IQR) of a dataset generated from a normal distribution.\n"
      ],
      "metadata": {
        "id": "dQwIB_e48QFQ"
      }
    },
    {
      "cell_type": "code",
      "source": [
        "data = np.random.normal(50, 10, 1000)\n",
        "\n",
        "range_value = np.ptp(data)\n",
        "iqr_value = np.percentile(data, 75) - np.percentile(data, 25)\n",
        "\n",
        "print(f\"Range: {range_value}\")\n",
        "print(f\"IQR: {iqr_value}\")\n"
      ],
      "metadata": {
        "id": "J1Qax8wZAatS"
      },
      "execution_count": null,
      "outputs": []
    },
    {
      "cell_type": "markdown",
      "source": [
        "27. Implement Z-score normalization on a dataset and visualize its transformation."
      ],
      "metadata": {
        "id": "JjHdnK0j8TNz"
      }
    },
    {
      "cell_type": "code",
      "source": [
        "def z_score_normalization(data):\n",
        "    return (data - np.mean(data)) / np.std(data)\n",
        "\n",
        "normalized_data = z_score_normalization(data)\n",
        "\n",
        "plt.hist(data, bins=20, alpha=0.5, label='Original')\n",
        "plt.hist(normalized_data, bins=20, alpha=0.5, label='Normalized')\n",
        "plt.legend()\n",
        "plt.show()\n"
      ],
      "metadata": {
        "id": "OVac2ROwAeT3"
      },
      "execution_count": null,
      "outputs": []
    },
    {
      "cell_type": "markdown",
      "source": [
        "\n",
        "28. Write a Python function to calculate the skewness and kurtosis of a dataset generated from a normal distribution."
      ],
      "metadata": {
        "id": "R-rGa8Bw8U8s"
      }
    },
    {
      "cell_type": "code",
      "source": [
        "from scipy.stats import skew, kurtosis\n",
        "\n",
        "skewness = skew(data)\n",
        "kurt = kurtosis(data)\n",
        "\n",
        "print(f\"Skewness: {skewness:.2f}\")\n",
        "print(f\"Kurtosis: {kurt:.2f}\")\n"
      ],
      "metadata": {
        "id": "MpT1NvTQAhxS"
      },
      "execution_count": null,
      "outputs": []
    }
  ]
}